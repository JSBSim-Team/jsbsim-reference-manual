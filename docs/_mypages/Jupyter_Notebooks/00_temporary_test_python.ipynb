{
 "cells": [
  {
   "cell_type": "markdown",
   "metadata": {},
   "source": [
    "<h1 class=\"heading\">TEMPORARY TEST</h1>\n",
    "<h1>Notebook for testing Python code</h1>\n",
    "\n",
    "<h6 class=\"author\"> — <b style=\"color:rgb(0,51,102);\">Carmine Varriale, Agostino De Marco</b>, <i>University of Naples Federico II</i></h6>"
   ]
  },
  {
   "cell_type": "code",
   "execution_count": 13,
   "metadata": {
    "collapsed": false
   },
   "outputs": [
    {
     "data": {
      "text/html": [
       "<style>\n",
       "\n",
       "/* Hide top Jupyter bar with logo, filename, last saved, etc. */\n",
       "div#header-container {\n",
       "    display: none;\n",
       "}\n",
       "\n",
       "#notebook-container {\n",
       "    padding: 15px;\n",
       "    background-color: #fff;\n",
       "    min-height: 0;\n",
       "    -webkit-box-shadow: 0px 0px 12px 1px rgba(87, 87, 87, 0.2);\n",
       "    box-shadow: 0px 0px 12px 1px rgba(87, 87, 87, 0.2);\n",
       "    width: 65%;\n",
       "}\n",
       "\n",
       "\n",
       "\n",
       "/* ==================================== */\n",
       "/*  Code Cells: selected and unselected */\n",
       "/* ==================================== */\n",
       "\n",
       "/*This prevents scrollable output from having an ugly grey shadow around it*/\n",
       "\n",
       "div.cell, div.output.output_scroll {\n",
       "    box-shadow: none;\n",
       "}\n",
       "\n",
       "/* Interactive figure header */\n",
       ".ui-widget-header {\n",
       "    border-width: 2px 0px 0px 0px;\n",
       "    border-radius: 15px;\n",
       "    border-top: solid black;\n",
       "    background: white;\n",
       "    color: black;\n",
       "    font-weight: 800;\n",
       "}\n",
       "\n",
       "/* ============= */\n",
       "/* Markdown text */\n",
       "/* ============= */\n",
       "\n",
       ".text_cell_render p,\n",
       ".text_cell_render div.main {                     /* Basic Font in Markdown cells */\n",
       "    font-family: 'Georgia', serif;\n",
       "    font-size: 12pt;\n",
       "    line-height: 120%;\n",
       "    color: black;\n",
       "    font-weight: 100;\n",
       "    text-align: justify;\n",
       "    display: block;\n",
       "    padding: 0px;\n",
       "    margin-top: 0pt;\n",
       "    margin-bottom: 0pt;\n",
       "}\n",
       "\n",
       ".text_cell_render li {\n",
       "    font-family: 'Georgia', serif;\n",
       "    font-size: 12pt;\n",
       "    line-height: 110%;\n",
       "    color: black;\n",
       "    font-weight: 100;\n",
       "    margin-top: 10pt;\n",
       "}\n",
       "\n",
       ".text_cell_render div.path { /* File and folder paths */\n",
       "    font-family: 'Lucida Sans Typewriter', monospace;\n",
       "    font-size: 10pt;\n",
       "    line-height: 100%;\n",
       "    color: black;\n",
       "    font-weight: 100;\n",
       "    text-align: center;\n",
       "    display: block;\n",
       "    margin: 8pt 0pt 8pt 0pt;\n",
       "}\n",
       "\n",
       ".text_cell_render div.typewr, .text_cell_render span.typewr { /* Code quotations in markdoown cell */\n",
       "    font-family: 'Lucida Sans Typewriter', monospace;\n",
       "    font-size: 10pt;\n",
       "    line-height: 100%;\n",
       "    color: black;\n",
       "    font-weight: 100;\n",
       "    text-align: center;\n",
       "    display: inline;\n",
       "    margin: 0pt;\n",
       "}\n",
       "\n",
       ".text_cell_render div.button, .text_cell_render span.button { /* Buttons on keyboard */\n",
       "    font-family: 'Calibri', sans;\n",
       "    font-size: 10pt;\n",
       "    line-height: 100%;\n",
       "    color: black;\n",
       "    font-weight: 100;\n",
       "    text-align: center;\n",
       "    display: inline;\n",
       "    padding: 0pt 2pt 0pt 2pt;\n",
       "    border: solid 1pt black;\n",
       "    border-radius: 2px;\n",
       "}\n",
       "\n",
       ".text_cell_render span.varstr {  /* Variable of type string */\n",
       "    color: #CC0000;\n",
       "}\n",
       "\n",
       ".text_cell_render span.varnum {  /* Variable of type number */\n",
       "    color: #00994C;\n",
       "}\n",
       "\n",
       ".text_cell_render span.varbool {  /* Variable of type bool */\n",
       "    color: #3333FF;\n",
       "}\n",
       "\n",
       "\n",
       ".text_cell_render h1.heading { /* Heading */\n",
       "    font-family: 'Times', serif;\n",
       "    font-style: regular;\n",
       "    font-weight: 600;\n",
       "    font-size: 24pt;\n",
       "    line-height: 100%;\n",
       "    text-align: center;\n",
       "    background-color: rgb(0,51,102);\n",
       "    color: white;\n",
       "    margin: 0.0em 0.0em 0.0em 0.0em;\n",
       "    padding: 0.3em 0.0em 0.3em 0.0em;\n",
       "    display: block;\n",
       "}\n",
       "\n",
       ".text_cell_render h1 { /* Title */\n",
       "    font-family: 'Times', serif;\n",
       "    font-style: regular;\n",
       "    font-weight: 600;\n",
       "    font-size: 24pt;\n",
       "    line-height: 100%;\n",
       "    text-align: center;\n",
       "    color: rgb(0,51,102);\n",
       "    background-color: #fff;\n",
       "    border-style: solid;\n",
       "    border-width: 1.5pt;\n",
       "    border-color: rgb(0,51,102);\n",
       "    margin: auto;\n",
       "    margin-bottom: 0.8em;\n",
       "    padding: 0.5em;\n",
       "    display: block;\n",
       "}\n",
       "\n",
       ".text_cell_render h2 { /* Section */\n",
       "    font-family: 'Times', serif;\n",
       "    font-weight: 600;\n",
       "    font-size: 20pt;\n",
       "    line-height: 100%;\n",
       "    color: rgb(0,51,102);\n",
       "    padding-top: 0.9em;\n",
       "    padding-bottom: 0.3em;\n",
       "    margin-bottom: 0.0em;\n",
       "    margin-top: 0.0em;\n",
       "    display: block;\n",
       "}\n",
       "\n",
       ".text_cell_render h3 { /* Subsection */\n",
       "    font-family: 'Times', serif;\n",
       "    font-size: 16pt;\n",
       "    font-weight: 600;\n",
       "    margin-top:0.0em;\n",
       "    margin-bottom: 0.0em;\n",
       "    padding-top: 0.7em;\n",
       "    padding-bottom: 0.3em;\n",
       "    font-style: regular;\n",
       "    color: rgb(0,51,102);\n",
       "}\n",
       "\n",
       ".text_cell_render h4 {    /* Caption */\n",
       "    font-family: 'Times', serif;\n",
       "    font-size: 14pt;\n",
       "    text-align: center;\n",
       "    margin-top: 0em;\n",
       "    margin-bottom: 2em;\n",
       "    font-style: regular;\n",
       "}\n",
       "\n",
       ".text_cell_render h5 {  /* Small titles */\n",
       "    font-family: 'Times', sans-serif;\n",
       "    font-weight: 400;\n",
       "    font-size: 16pt;\n",
       "    color: rgb(163,0,0);\n",
       "    font-style: italic;\n",
       "    margin-bottom: .1em;\n",
       "    margin-top: 0.8em;\n",
       "    display: block;\n",
       "}\n",
       "\n",
       ".text_cell_render h6.author { /* Author heading */\n",
       "    font-family: 'PT Mono', sans-serif;\n",
       "    font-style: normal;\n",
       "    font-weight: 500;\n",
       "    font-size: 10pt;\n",
       "    line-height: 100%;\n",
       "    color: black;\n",
       "    margin-bottom: 1px;\n",
       "    margin-top: 1px;\n",
       "}\n",
       "\n",
       "\n",
       ".text_cell_render h6.copyright { /* Copyright note */\n",
       "    font-family: 'PT Mono', sans-serif;\n",
       "    font-weight: 300;\n",
       "    font-size: 9pt;\n",
       "    line-height: 100%;\n",
       "    color: grey;\n",
       "    margin-bottom: 1px;\n",
       "    margin-top: 1px;\n",
       "}\n",
       "\n",
       "</style>\n",
       "\n",
       "<script>\n",
       "    MathJax.Hub.Config({\n",
       "                        TeX: {\n",
       "                           extensions: [\"AMSmath.js\"],\n",
       "                           equationNumbers: { autoNumber: \"AMS\", useLabelIds: true}\n",
       "                           },\n",
       "                tex2jax: {\n",
       "                    inlineMath: [ ['$','$'], [\"\\\\(\",\"\\\\)\"] ],\n",
       "                    displayMath: [ ['$$','$$'], [\"\\\\[\",\"\\\\]\"] ]\n",
       "                },\n",
       "                displayAlign: 'center', // Change this to 'center' to center equations.\n",
       "                \"HTML-CSS\": {\n",
       "                    styles: {'.MathJax_Display': {\"margin\": 4}}\n",
       "                }\n",
       "        });\n",
       "</script>\n"
      ],
      "text/plain": [
       "<IPython.core.display.HTML object>"
      ]
     },
     "metadata": {},
     "output_type": "display_data"
    }
   ],
   "source": [
    "% run ./python/nb_init.py\n",
    "% matplotlib inline\n",
    "\n",
    "import numpy as np\n",
    "\n",
    "import geography as geo\n",
    "import data_handling as dh\n",
    "from property_map import pmap\n",
    "from MCSim import SimFamily, PostGroup, PostData"
   ]
  },
  {
   "cell_type": "code",
   "execution_count": 14,
   "metadata": {
    "collapsed": false
   },
   "outputs": [
    {
     "data": {
      "text/html": [
       "23.326133909287257 knot"
      ],
      "text/latex": [
       "$23.326133909287257 knot$"
      ],
      "text/plain": [
       "<Quantity(23.326133909287257, 'knot')>"
      ]
     },
     "execution_count": 14,
     "metadata": {},
     "output_type": "execute_result"
    }
   ],
   "source": [
    "# Unit conversions\n",
    "#0.82*(75*unit.inch).to(unit.m).to(unit.inch)\n",
    "(12*unit.m/unit.s).to(unit.knot)"
   ]
  },
  {
   "cell_type": "code",
   "execution_count": 2,
   "metadata": {
    "collapsed": false
   },
   "outputs": [
    {
     "data": {
      "text/plain": [
       "(53.17156444721335, 8.162305028704246)"
      ]
     },
     "execution_count": 2,
     "metadata": {},
     "output_type": "execute_result"
    }
   ],
   "source": [
    "# UTM to LatLon\n",
    "import utm\n",
    "utm.to_latlon(444005.64156725001521, 5889683.58956928178668+2000, 32, 'U')"
   ]
  },
  {
   "cell_type": "code",
   "execution_count": 3,
   "metadata": {
    "collapsed": false
   },
   "outputs": [
    {
     "data": {
      "text/plain": [
       "0.31246094238220223"
      ]
     },
     "execution_count": 3,
     "metadata": {},
     "output_type": "execute_result"
    }
   ],
   "source": [
    "# Rate of descent\n",
    "(10*unit.m).to(unit.ft).magnitude / 105"
   ]
  },
  {
   "cell_type": "code",
   "execution_count": 28,
   "metadata": {
    "collapsed": false
   },
   "outputs": [
    {
     "name": "stdout",
     "output_type": "stream",
     "text": [
      "(-400, 107.17967697244907, 0)\n",
      "(2800, -750.2577388071436, 0)\n",
      "(11.59110991546882, -3.1058285412302489, 0)\n"
     ]
    }
   ],
   "source": [
    "# Other\n",
    "theta = np.radians(15)\n",
    "V = 12\n",
    "\n",
    "P1 = (-400, 400*np.tan(theta), 0)\n",
    "P2 = (2800, -2800*np.tan(theta), 0)\n",
    "vV = (V*np.cos(theta), -V*np.sin(theta), 0)\n",
    "\n",
    "print(P1, P2, vV, sep='\\n')"
   ]
  },
  {
   "cell_type": "code",
   "execution_count": 62,
   "metadata": {
    "collapsed": false
   },
   "outputs": [
    {
     "data": {
      "text/plain": [
       "22.22222222222222"
      ]
     },
     "execution_count": 62,
     "metadata": {},
     "output_type": "execute_result"
    }
   ],
   "source": [
    "8000*10/3600"
   ]
  },
  {
   "cell_type": "code",
   "execution_count": 56,
   "metadata": {
    "collapsed": false
   },
   "outputs": [
    {
     "data": {
      "text/plain": [
       "array([1, 3, 6])"
      ]
     },
     "execution_count": 56,
     "metadata": {},
     "output_type": "execute_result"
    }
   ],
   "source": [
    "D = {'3': [0,1,3], '5': [8,4,6], '0': [3,6,1]}\n",
    "for key, val in D.items(): D[key] = np.array(val)\n",
    "    \n",
    "inds = D['0'].argsort()\n",
    "\n",
    "for key, val in D.items(): D[key] = val[inds]\n",
    "    \n",
    "D['0']"
   ]
  },
  {
   "cell_type": "code",
   "execution_count": 61,
   "metadata": {
    "collapsed": false
   },
   "outputs": [
    {
     "data": {
      "text/plain": [
       "0.7936507936507936"
      ]
     },
     "execution_count": 61,
     "metadata": {},
     "output_type": "execute_result"
    }
   ],
   "source": [
    "100/126"
   ]
  },
  {
   "cell_type": "code",
   "execution_count": null,
   "metadata": {
    "collapsed": true
   },
   "outputs": [],
   "source": []
  }
 ],
 "metadata": {
  "anaconda-cloud": {},
  "kernelspec": {
   "display_name": "Python [conda root]",
   "language": "python",
   "name": "conda-root-py"
  },
  "language_info": {
   "codemirror_mode": {
    "name": "ipython",
    "version": 3
   },
   "file_extension": ".py",
   "mimetype": "text/x-python",
   "name": "python",
   "nbconvert_exporter": "python",
   "pygments_lexer": "ipython3",
   "version": "3.5.2"
  }
 },
 "nbformat": 4,
 "nbformat_minor": 0
}
