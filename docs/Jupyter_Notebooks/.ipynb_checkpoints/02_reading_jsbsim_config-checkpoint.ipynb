{
 "cells": [
  {
   "cell_type": "markdown",
   "metadata": {},
   "source": [
    "<h1 class=\"heading\">TEST — 2</h1>\n",
    "<h1>Reading JSBSim FDM config file</h1>\n",
    "\n",
    "<h6 class=\"author\"> — <b style=\"color:rgb(0,51,102);\">Agostino De Marco</b>, <i>University of Naples Federico II</i></h6>"
   ]
  },
  {
   "cell_type": "markdown",
   "metadata": {},
   "source": [
    "## Aim of this notebook\n",
    "A JSBSim FDM configuration file is fetched \n",
    "\n",
    "- from a local folder, and \n",
    "- from the online GitHub repository\n",
    "\n",
    "  `https://raw.githubusercontent.com/JSBSim-Team/jsbsim/master/aircraft/<fdm-name>/<fdm-name>.xml`\n",
    "\n",
    "and converted into a proper XML object. The XML source is then parsed to grab the desired data and then make plots."
   ]
  },
  {
   "cell_type": "markdown",
   "metadata": {},
   "source": [
    "## Preliminary Python imports and settings"
   ]
  },
  {
   "cell_type": "code",
   "execution_count": 1,
   "metadata": {},
   "outputs": [
    {
     "data": {
      "text/html": [
       "<style>\n",
       "\n",
       "/* Hide top Jupyter bar with logo, filename, last saved, etc. */\n",
       "div#header-container {\n",
       "    display: none;\n",
       "}\n",
       "\n",
       "#notebook-container {\n",
       "    padding: 15px;\n",
       "    background-color: #fff;\n",
       "    min-height: 0;\n",
       "    -webkit-box-shadow: 0px 0px 12px 1px rgba(87, 87, 87, 0.2);\n",
       "    box-shadow: 0px 0px 12px 1px rgba(87, 87, 87, 0.2);\n",
       "    width: 1050px;\n",
       "}\n",
       "\n",
       "\n",
       "\n",
       "/* ==================================== */\n",
       "/*  Code Cells: selected and unselected */\n",
       "/* ==================================== */\n",
       "\n",
       "/*This prevents scrollable output from having an ugly grey shadow around it*/\n",
       "\n",
       "div.cell, div.output.output_scroll {\n",
       "    box-shadow: none;\n",
       "}\n",
       "\n",
       "/* Interactive figure header */\n",
       ".ui-widget-header {\n",
       "    border-width: 2px 0px 0px 0px;\n",
       "    border-radius: 15px;\n",
       "    border-top: solid black;\n",
       "    background: white;\n",
       "    color: black;\n",
       "    font-weight: 800;\n",
       "}\n",
       "\n",
       "/* ============= */\n",
       "/* Markdown text */\n",
       "/* ============= */\n",
       "\n",
       ".text_cell_render p,\n",
       ".text_cell_render div.main {                     /* Basic Font in Markdown cells */\n",
       "    font-family: 'Georgia', serif;\n",
       "    font-size: 12pt;\n",
       "    line-height: 120%;\n",
       "    color: black;\n",
       "    font-weight: 100;\n",
       "    text-align: justify;\n",
       "    display: block;\n",
       "    padding: 0px;\n",
       "    margin-top: 0pt;\n",
       "    margin-bottom: 0pt;\n",
       "}\n",
       "\n",
       ".text_cell_render li {\n",
       "    font-family: 'Georgia', serif;\n",
       "    font-size: 12pt;\n",
       "    line-height: 110%;\n",
       "    color: black;\n",
       "    font-weight: 100;\n",
       "    margin-top: 10pt;\n",
       "}\n",
       "\n",
       ".text_cell_render div.path { /* File and folder paths */\n",
       "    font-family: 'Lucida Sans Typewriter', monospace;\n",
       "    font-size: 10pt;\n",
       "    line-height: 100%;\n",
       "    color: black;\n",
       "    font-weight: 100;\n",
       "    text-align: center;\n",
       "    display: block;\n",
       "    margin: 8pt 0pt 8pt 0pt;\n",
       "}\n",
       "\n",
       ".text_cell_render div.typewr, .text_cell_render span.typewr { /* Code quotations in markdoown cell */\n",
       "    font-family: 'Lucida Sans Typewriter', monospace;\n",
       "    font-size: 10pt;\n",
       "    line-height: 100%;\n",
       "    color: black;\n",
       "    font-weight: 100;\n",
       "    text-align: center;\n",
       "    display: inline;\n",
       "    margin: 0pt;\n",
       "}\n",
       "\n",
       ".text_cell_render div.button, .text_cell_render span.button { /* Buttons on keyboard */\n",
       "    font-family: 'Calibri', sans;\n",
       "    font-size: 10pt;\n",
       "    line-height: 100%;\n",
       "    color: black;\n",
       "    font-weight: 100;\n",
       "    text-align: center;\n",
       "    display: inline;\n",
       "    padding: 0pt 2pt 0pt 2pt;\n",
       "    border: solid 1pt black;\n",
       "    border-radius: 2px;\n",
       "}\n",
       "\n",
       ".text_cell_render span.varstr {  /* Variable of type string */\n",
       "    color: #CC0000;\n",
       "}\n",
       "\n",
       ".text_cell_render span.varnum {  /* Variable of type number */\n",
       "    color: #00994C;\n",
       "}\n",
       "\n",
       ".text_cell_render span.varbool {  /* Variable of type bool */\n",
       "    color: #3333FF;\n",
       "}\n",
       "\n",
       "\n",
       ".text_cell_render h1.heading { /* Heading */\n",
       "    font-family: 'Times', serif;\n",
       "    font-style: regular;\n",
       "    font-weight: 600;\n",
       "    font-size: 24pt;\n",
       "    line-height: 100%;\n",
       "    text-align: center;\n",
       "    background-color: rgb(0,51,102);\n",
       "    color: white;\n",
       "    margin: 0.0em 0.0em 0.0em 0.0em;\n",
       "    padding: 0.3em 0.0em 0.3em 0.0em;\n",
       "    display: block;\n",
       "}\n",
       "\n",
       ".text_cell_render h1 { /* Title */\n",
       "    font-family: 'Times', serif;\n",
       "    font-style: regular;\n",
       "    font-weight: 600;\n",
       "    font-size: 24pt;\n",
       "    line-height: 100%;\n",
       "    text-align: center;\n",
       "    color: rgb(0,51,102);\n",
       "    background-color: #fff;\n",
       "    border-style: solid;\n",
       "    border-width: 1.5pt;\n",
       "    border-color: rgb(0,51,102);\n",
       "    margin: auto;\n",
       "    margin-bottom: 0.8em;\n",
       "    padding: 0.5em;\n",
       "    display: block;\n",
       "}\n",
       "\n",
       ".text_cell_render h2 { /* Section */\n",
       "    font-family: 'Times', serif;\n",
       "    font-weight: 600;\n",
       "    font-size: 20pt;\n",
       "    line-height: 100%;\n",
       "    color: rgb(0,51,102);\n",
       "    padding-top: 0.9em;\n",
       "    padding-bottom: 0.3em;\n",
       "    margin-bottom: 0.0em;\n",
       "    margin-top: 0.0em;\n",
       "    display: block;\n",
       "}\n",
       "\n",
       ".text_cell_render h3 { /* Subsection */\n",
       "    font-family: 'Times', serif;\n",
       "    font-size: 16pt;\n",
       "    font-weight: 600;\n",
       "    margin-top:0.0em;\n",
       "    margin-bottom: 0.0em;\n",
       "    padding-top: 0.7em;\n",
       "    padding-bottom: 0.3em;\n",
       "    font-style: regular;\n",
       "    color: rgb(0,51,102);\n",
       "}\n",
       "\n",
       ".text_cell_render h4 {    /* Caption */\n",
       "    font-family: 'Times', serif;\n",
       "    font-size: 14pt;\n",
       "    text-align: center;\n",
       "    margin-top: 0em;\n",
       "    margin-bottom: 2em;\n",
       "    font-style: regular;\n",
       "}\n",
       "\n",
       ".text_cell_render h5 {  /* Small titles */\n",
       "    font-family: 'Times', sans-serif;\n",
       "    font-weight: 400;\n",
       "    font-size: 16pt;\n",
       "    color: rgb(163,0,0);\n",
       "    font-style: italic;\n",
       "    margin-bottom: .1em;\n",
       "    margin-top: 0.8em;\n",
       "    display: block;\n",
       "}\n",
       "\n",
       ".text_cell_render h6.author { /* Author heading */\n",
       "    font-family: 'PT Mono', sans-serif;\n",
       "    font-style: normal;\n",
       "    font-weight: 500;\n",
       "    font-size: 10pt;\n",
       "    line-height: 100%;\n",
       "    color: black;\n",
       "    margin-bottom: 1px;\n",
       "    margin-top: 1px;\n",
       "}\n",
       "\n",
       "\n",
       ".text_cell_render h6.copyright { /* Copyright note */\n",
       "    font-family: 'PT Mono', sans-serif;\n",
       "    font-weight: 300;\n",
       "    font-size: 9pt;\n",
       "    line-height: 100%;\n",
       "    color: grey;\n",
       "    margin-bottom: 1px;\n",
       "    margin-top: 1px;\n",
       "}\n",
       "\n",
       "</style>\n",
       "\n",
       "<script>\n",
       "    MathJax.Hub.Config({\n",
       "                        TeX: {\n",
       "                           extensions: [\"AMSmath.js\"],\n",
       "                           equationNumbers: { autoNumber: \"AMS\", useLabelIds: true}\n",
       "                           },\n",
       "                tex2jax: {\n",
       "                    inlineMath: [ ['$','$'], [\"\\\\(\",\"\\\\)\"] ],\n",
       "                    displayMath: [ ['$$','$$'], [\"\\\\[\",\"\\\\]\"] ]\n",
       "                },\n",
       "                displayAlign: 'center', // Change this to 'center' to center equations.\n",
       "                \"HTML-CSS\": {\n",
       "                    styles: {'.MathJax_Display': {\"margin\": 4}}\n",
       "                }\n",
       "        });\n",
       "</script>\n"
      ],
      "text/plain": [
       "<IPython.core.display.HTML object>"
      ]
     },
     "metadata": {},
     "output_type": "display_data"
    }
   ],
   "source": [
    "% run ./python/nb_init.py\n",
    "% matplotlib inline\n",
    "\n",
    "import numpy as np\n",
    "\n",
    "import geography as geo\n",
    "import data_handling as dh\n",
    "from property_map import pmap\n",
    "from MCSim import *\n",
    "import lxml.etree\n",
    "import sys\n",
    "from io import StringIO\n",
    "import pandas as pd\n",
    "import urllib.request"
   ]
  },
  {
   "cell_type": "markdown",
   "metadata": {},
   "source": [
    "## Reading an FDM configuration file from a local directory"
   ]
  },
  {
   "cell_type": "markdown",
   "metadata": {},
   "source": [
    "Read the `c172x_unina_mod.xml` file. Assign the file name and locate it with the class `ConfigFile`:"
   ]
  },
  {
   "cell_type": "code",
   "execution_count": 2,
   "metadata": {},
   "outputs": [
    {
     "name": "stdout",
     "output_type": "stream",
     "text": [
      "Aircraft FDM path: ./JSBSim/aircraft/c172x_unina_mod/\n",
      "Full FDM file path: ./JSBSim/aircraft/c172x_unina_mod/c172x_unina_mod.xml\n"
     ]
    }
   ],
   "source": [
    "fdm_file = ConfigFile('c172x_unina_mod')\n",
    "print(\"Aircraft FDM path: {0}\".format(fdm_file.folderpath))\n",
    "print(\"Full FDM file path: {0}\".format(fdm_file.path))"
   ]
  },
  {
   "cell_type": "markdown",
   "metadata": {},
   "source": [
    "Parse the XML file and search for the FDM function named `\"aero/function/ground-effect-factor-lift\"` via XPath:"
   ]
  },
  {
   "cell_type": "code",
   "execution_count": 3,
   "metadata": {},
   "outputs": [
    {
     "name": "stdout",
     "output_type": "stream",
     "text": [
      "Searching for function: aero/function/ground-effect-factor-lift\n",
      "Occurrences found: 1\n",
      "Attribute: name=\"aero/function/ground-effect-factor-lift\"\n"
     ]
    }
   ],
   "source": [
    "fdm_tree = lxml.etree.parse(open(fdm_file.path))\n",
    "\n",
    "func_name = 'aero/function/ground-effect-factor-lift'\n",
    "print(\"Searching for function: {0}\".format(func_name))\n",
    "\n",
    "results = fdm_tree.xpath('//function[@name=\"aero/function/ground-effect-factor-lift\"]')\n",
    "print(\"Occurrences found: {0}\".format(len(results)))\n",
    "node = results[0]\n",
    "print(\"Attribute: name=\\\"{0}\\\"\".format(node.attrib[\"name\"]))"
   ]
  },
  {
   "cell_type": "markdown",
   "metadata": {},
   "source": [
    "Now in the selected node `<function/>` search for the node `<tableData/>` and get the content as text (trim white spaces from the front and the back):"
   ]
  },
  {
   "cell_type": "code",
   "execution_count": 4,
   "metadata": {},
   "outputs": [
    {
     "name": "stdout",
     "output_type": "stream",
     "text": [
      "Searching for <tableData/> in node\n",
      "Occurrences found: 1\n",
      "<tableData/> content:\n",
      "------------------------------\n",
      "\n",
      "              0.0  1.203\n",
      "              0.1  1.127\n",
      "              0.15 1.090\n",
      "              0.2  1.073\n",
      "              0.3  1.046\n",
      "              0.4  1.055\n",
      "              0.5  1.019\n",
      "              0.6  1.013\n",
      "              0.7  1.008\n",
      "              0.8  1.006\n",
      "              0.9  1.003\n",
      "              1.0  1.002\n",
      "              1.1  1.0\n",
      "            \n",
      "------------------------------\n",
      "<tableData/> content trimmed:\n",
      "------------------------------\n",
      "0.0  1.203\n",
      "              0.1  1.127\n",
      "              0.15 1.090\n",
      "              0.2  1.073\n",
      "              0.3  1.046\n",
      "              0.4  1.055\n",
      "              0.5  1.019\n",
      "              0.6  1.013\n",
      "              0.7  1.008\n",
      "              0.8  1.006\n",
      "              0.9  1.003\n",
      "              1.0  1.002\n",
      "              1.1  1.0\n",
      "------------------------------\n"
     ]
    }
   ],
   "source": [
    "print(\"Searching for <tableData/> in node\")\n",
    "results2 = node.xpath('.//tableData') # a dot (.) in front to make the search relative to the current element\n",
    "print(\"Occurrences found: {0}\".format(len(results2)))\n",
    "\n",
    "tableData_node = results2[0]\n",
    "print(\"<tableData/> content:\")\n",
    "print(\"{0}\\n{1}\\n{0}\".format(\"-\"*30,tableData_node.text))\n",
    "\n",
    "# trim white spaces from the front and the back\n",
    "tableData_text = tableData_node.text.strip()\n",
    "tableData_text.rstrip()\n",
    "print(\"<tableData/> content trimmed:\")\n",
    "print(\"{0}\\n{1}\\n{0}\".format(\"-\"*30,tableData_text))"
   ]
  },
  {
   "cell_type": "markdown",
   "metadata": {},
   "source": [
    "Finally, convert the table into a Pandas DataFrame and plot the tabulated values:"
   ]
  },
  {
   "cell_type": "code",
   "execution_count": 5,
   "metadata": {},
   "outputs": [
    {
     "name": "stdout",
     "output_type": "stream",
     "text": [
      "DataFrame:\n",
      "       0      1\n",
      "0   0.00  1.203\n",
      "1   0.10  1.127\n",
      "2   0.15  1.090\n",
      "3   0.20  1.073\n",
      "4   0.30  1.046\n",
      "5   0.40  1.055\n",
      "6   0.50  1.019\n",
      "7   0.60  1.013\n",
      "8   0.70  1.008\n",
      "9   0.80  1.006\n",
      "10  0.90  1.003\n",
      "11  1.00  1.002\n",
      "12  1.10  1.000\n"
     ]
    },
    {
     "data": {
      "image/png": "[encoded data removed]",
      "text/plain": [
       "<Figure size 936x576 with 1 Axes>"
      ]
     },
     "metadata": {},
     "output_type": "display_data"
    }
   ],
   "source": [
    "TESTDATA = StringIO(tableData_text)\n",
    "\n",
    "df = pd.read_csv(TESTDATA, header=None, delimiter=r\"\\s+\") # separator: one or more spaces\n",
    "\n",
    "print(\"DataFrame:\")\n",
    "print(df)\n",
    "\n",
    "plt.rc('text', usetex=True)\n",
    "plt.rc('font', family='serif')\n",
    "\n",
    "ax = df.plot(figsize=(13,8), x=0, y=1, style='.-', legend=False);\n",
    "ax.set_xlabel(r'$h/(b/2)$', fontsize=25)\n",
    "ax.xaxis.set_label_coords(0.5,-0.08)\n",
    "ax.set_ylabel(r'$K_{C_L\\,,\\,\\mathrm{ge}}$', fontsize=25)\n",
    "ax.yaxis.set_label_coords(-0.08,0.5)\n",
    "ax.set_xlim(0, 1.2)\n",
    "ax.set_ylim(0.9, 1.3)\n",
    "ax.set_title(\"File: {0}\".format(fdm_file.path), usetex=False, family='monospace', y=1.02)\n",
    "plt.grid()\n",
    "plt.show()"
   ]
  },
  {
   "cell_type": "markdown",
   "metadata": {},
   "source": [
    "## Reading an FDM configuration file the JSBSim GitHub repository"
   ]
  },
  {
   "cell_type": "markdown",
   "metadata": {},
   "source": [
    "Reapeat the above procedure this time by fetching the file `c172x` from the GitHub repository:"
   ]
  },
  {
   "cell_type": "code",
   "execution_count": 6,
   "metadata": {},
   "outputs": [
    {
     "name": "stdout",
     "output_type": "stream",
     "text": [
      "Occurrences found: 1\n",
      "Attribute: name=\"aero/function/ground-effect-factor-lift\"\n",
      "Searching for <tableData/> in node\n",
      "Occurrences found: 1\n",
      "<tableData/> content:\n",
      "------------------------------\n",
      "\n",
      "                    0.0  1.203\n",
      "                    0.1  1.127\n",
      "                    0.15 1.090\n",
      "                    0.2  1.073\n",
      "                    0.3  1.046\n",
      "                    0.4  1.028\n",
      "                    0.5  1.019\n",
      "                    0.6  1.013\n",
      "                    0.7  1.008\n",
      "                    0.8  1.006\n",
      "                    0.9  1.003\n",
      "                    1.0  1.002\n",
      "                    1.1  1.0\n",
      "                \n",
      "------------------------------\n",
      "<tableData/> content trimmed:\n",
      "------------------------------\n",
      "0.0  1.203\n",
      "                    0.1  1.127\n",
      "                    0.15 1.090\n",
      "                    0.2  1.073\n",
      "                    0.3  1.046\n",
      "                    0.4  1.028\n",
      "                    0.5  1.019\n",
      "                    0.6  1.013\n",
      "                    0.7  1.008\n",
      "                    0.8  1.006\n",
      "                    0.9  1.003\n",
      "                    1.0  1.002\n",
      "                    1.1  1.0\n",
      "------------------------------\n"
     ]
    }
   ],
   "source": [
    "url = 'https://raw.githubusercontent.com/JSBSim-Team/jsbsim/master/aircraft/c172x/c172x.xml'\n",
    "\n",
    "with urllib.request.urlopen(url) as response:\n",
    "   xmlSource = response.read()\n",
    "\n",
    "fdm_root = lxml.etree.fromstring(xmlSource)\n",
    "\n",
    "results = fdm_root.xpath('//function[@name=\"aero/function/ground-effect-factor-lift\"]')\n",
    "print(\"Occurrences found: {0}\".format(len(results)))\n",
    "node = results[0]\n",
    "print(\"Attribute: name=\\\"{0}\\\"\".format(node.attrib[\"name\"]))\n",
    "\n",
    "print(\"Searching for <tableData/> in node\")\n",
    "results2 = node.xpath('.//tableData') # a dot (.) in front to make the search relative to the current element\n",
    "print(\"Occurrences found: {0}\".format(len(results2)))\n",
    "\n",
    "tableData_node = results2[0]\n",
    "print(\"<tableData/> content:\")\n",
    "print(\"{0}\\n{1}\\n{0}\".format(\"-\"*30,tableData_node.text))\n",
    "\n",
    "# trim white spaces from the front and the back\n",
    "tableData_text = tableData_node.text.strip()\n",
    "tableData_text.rstrip()\n",
    "print(\"<tableData/> content trimmed:\")\n",
    "print(\"{0}\\n{1}\\n{0}\".format(\"-\"*30,tableData_text))"
   ]
  },
  {
   "cell_type": "markdown",
   "metadata": {},
   "source": [
    "Finally, make a DataFrame and plot the data:"
   ]
  },
  {
   "cell_type": "code",
   "execution_count": 7,
   "metadata": {
    "scrolled": false
   },
   "outputs": [
    {
     "name": "stdout",
     "output_type": "stream",
     "text": [
      "DataFrame:\n",
      "       0      1\n",
      "0   0.00  1.203\n",
      "1   0.10  1.127\n",
      "2   0.15  1.090\n",
      "3   0.20  1.073\n",
      "4   0.30  1.046\n",
      "5   0.40  1.028\n",
      "6   0.50  1.019\n",
      "7   0.60  1.013\n",
      "8   0.70  1.008\n",
      "9   0.80  1.006\n",
      "10  0.90  1.003\n",
      "11  1.00  1.002\n",
      "12  1.10  1.000\n"
     ]
    },
    {
     "data": {
      "image/png": "[encoded data removed]",
      "text/plain": [
       "<Figure size 936x576 with 1 Axes>"
      ]
     },
     "metadata": {},
     "output_type": "display_data"
    }
   ],
   "source": [
    "TESTDATA = StringIO(tableData_text)\n",
    "\n",
    "df = pd.read_csv(TESTDATA, header=None, delimiter=r\"\\s+\")\n",
    "\n",
    "print(\"DataFrame:\")\n",
    "print(df)\n",
    "\n",
    "plt.rc('text', usetex=True)\n",
    "plt.rc('font', family='serif')\n",
    "\n",
    "ax = df.plot(figsize=(13,8), x=0, y=1, style='.-', legend=False);\n",
    "ax.set_xlabel(r'$h/(b/2)$', fontsize=25)\n",
    "ax.xaxis.set_label_coords(0.5,-0.08)\n",
    "ax.set_ylabel(r'$K_{C_L\\,,\\,\\mathrm{ge}}$', fontsize=25)\n",
    "ax.yaxis.set_label_coords(-0.08,0.5)\n",
    "ax.set_xlim(0, 1.2)\n",
    "ax.set_ylim(0.9, 1.3)\n",
    "ax.set_title(\"File: {0}\".format(url), usetex=False, family='monospace', y=1.02)\n",
    "plt.grid()\n",
    "plt.show()"
   ]
  },
  {
   "cell_type": "code",
   "execution_count": null,
   "metadata": {},
   "outputs": [],
   "source": []
  }
 ],
 "metadata": {
  "kernelspec": {
   "display_name": "Python 3",
   "language": "python",
   "name": "python3"
  },
  "language_info": {
   "codemirror_mode": {
    "name": "ipython",
    "version": 3
   },
   "file_extension": ".py",
   "mimetype": "text/x-python",
   "name": "python",
   "nbconvert_exporter": "python",
   "pygments_lexer": "ipython3",
   "version": "3.6.5"
  }
 },
 "nbformat": 4,
 "nbformat_minor": 2
}
